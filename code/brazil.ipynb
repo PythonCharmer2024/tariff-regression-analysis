{
 "cells": [
  {
   "cell_type": "markdown",
   "id": "eec51f05",
   "metadata": {},
   "source": [
    "## Dependencies"
   ]
  },
  {
   "cell_type": "code",
   "execution_count": 1,
   "id": "28d5f44d",
   "metadata": {},
   "outputs": [],
   "source": [
    "import pandas as pd\n",
    "import statsmodels.api as sm\n",
    "import os\n",
    "import matplotlib.pyplot as plt\n",
    "import seaborn as sns\n",
    "from sklearn.linear_model import LinearRegression\n",
    "import warnings\n",
    "warnings.filterwarnings(\"ignore\")"
   ]
  },
  {
   "cell_type": "markdown",
   "id": "dd18b1fd",
   "metadata": {},
   "source": [
    "## Data Extraction"
   ]
  },
  {
   "cell_type": "code",
   "execution_count": 2,
   "id": "86213a11",
   "metadata": {},
   "outputs": [
    {
     "name": "stdout",
     "output_type": "stream",
     "text": [
      "   year  inflation_rate  manufacturing_output  trade_deficit  tariff\n",
      "0  2014             6.3                 3.200          0.005  0.0992\n",
      "1  2015             9.0                -7.150         -0.035  0.1032\n",
      "2  2016             8.7                -6.300         -0.033  0.1019\n",
      "3  2017             3.4                 2.475          0.013  0.1087\n",
      "4  2018             3.7                 1.070          0.018  0.1099\n",
      "5  2019             3.7                -1.040          0.012  0.1082\n",
      "6  2020             3.2                -4.420         -0.033  0.1025\n",
      "7  2021            83.0                 5.300          0.048  0.0961\n",
      "8  2022             9.3                75.000          0.030  0.0744\n",
      "9  2023             4.6                 0.100          0.029  0.0827\n"
     ]
    }
   ],
   "source": [
    "# Load Excel file\n",
    "merged_path = os.path.join(\"..\", \"data\", \"brazil\", \"merged_brazil.xlsx\")\n",
    "df = pd.read_excel(merged_path)\n",
    "\n",
    "# Clean column names\n",
    "df.columns = [col.strip().replace(\" \", \"_\").lower() for col in df.columns]\n",
    "\n",
    "# Rename for clarity\n",
    "df = df.rename(columns={\n",
    "    \"cpi_data\": \"inflation_rate\",\n",
    "    \"manufacturing_(%_age_of_gdp)\": \"manufacturing_output\",\n",
    "    \"trade_balance_(%_age_of_gdp)\": \"trade_deficit\",\n",
    "    \"tariff_rate\": \"tariff\"\n",
    "})\n",
    "\n",
    "# Preview the dataframe\n",
    "print(df)\n"
   ]
  },
  {
   "cell_type": "markdown",
   "id": "c53563cc",
   "metadata": {},
   "source": [
    "## Defining The Variables"
   ]
  },
  {
   "cell_type": "code",
   "execution_count": 3,
   "id": "536f7888",
   "metadata": {},
   "outputs": [],
   "source": [
    "# Independent variable (X)\n",
    "X = df[[\"tariff\"]]\n",
    "\n",
    "# Dependent variables (Y)\n",
    "y_inflation = df[\"inflation_rate\"]\n",
    "y_manufacturing = df[\"manufacturing_output\"]\n",
    "y_trade_balance = df[\"trade_deficit\"]\n"
   ]
  },
  {
   "cell_type": "markdown",
   "id": "b8620057",
   "metadata": {},
   "source": [
    "## Statistical Analysis"
   ]
  },
  {
   "cell_type": "code",
   "execution_count": 4,
   "id": "08a6b204",
   "metadata": {},
   "outputs": [],
   "source": [
    "model_inflation = LinearRegression().fit(X, y_inflation)\n",
    "model_manufacturing = LinearRegression().fit(X, y_manufacturing)\n",
    "model_trade_balance = LinearRegression().fit(X, y_trade_balance)\n"
   ]
  },
  {
   "cell_type": "code",
   "execution_count": 5,
   "id": "2a7cb614",
   "metadata": {},
   "outputs": [
    {
     "name": "stdout",
     "output_type": "stream",
     "text": [
      "Inflation Model:\n",
      "Coefficient: [-262.29124729]\n",
      "Intercept: 39.37290028300422\n",
      "\n",
      "Manufacturing Output Model:\n",
      "Coefficient: [-1546.13916627]\n",
      "Intercept: 159.3965129279245\n",
      "\n",
      "Trade Balance Model:\n",
      "Coefficient: [-1.03542001]\n",
      "Intercept: 0.10757524651680726\n"
     ]
    }
   ],
   "source": [
    "print(\"Inflation Model:\")\n",
    "print(\"Coefficient:\", model_inflation.coef_)\n",
    "print(\"Intercept:\", model_inflation.intercept_)\n",
    "\n",
    "print(\"\\nManufacturing Output Model:\")\n",
    "print(\"Coefficient:\", model_manufacturing.coef_)\n",
    "print(\"Intercept:\", model_manufacturing.intercept_)\n",
    "\n",
    "print(\"\\nTrade Balance Model:\")\n",
    "print(\"Coefficient:\", model_trade_balance.coef_)\n",
    "print(\"Intercept:\", model_trade_balance.intercept_)\n"
   ]
  },
  {
   "cell_type": "code",
   "execution_count": 6,
   "id": "c7791dae",
   "metadata": {},
   "outputs": [],
   "source": [
    "X_sm = sm.add_constant(X)  # Adds intercept term manually\n",
    "\n",
    "model_inf = sm.OLS(y_inflation, X_sm).fit()\n",
    "\n",
    "model_manu = sm.OLS(y_manufacturing, X_sm).fit()\n",
    "\n",
    "model_trade = sm.OLS(y_trade_balance, X_sm).fit()\n"
   ]
  },
  {
   "cell_type": "code",
   "execution_count": 7,
   "id": "4d07d263",
   "metadata": {},
   "outputs": [],
   "source": [
    "def save_ols_summary(x, y, data, filename):\n",
    "    X = sm.add_constant(data[[x]])\n",
    "    y_vals = data[y]\n",
    "\n",
    "    with warnings.catch_warnings():\n",
    "        warnings.simplefilter(\"ignore\")\n",
    "        model = sm.OLS(y_vals, X).fit()\n",
    "\n",
    "    summary_str = model.summary().as_text()\n",
    "\n",
    "    output_path = os.path.join(\"..\", \"output\", \"brazil\", filename)\n",
    "    with open(output_path, \"w\") as f:\n",
    "        f.write(summary_str)"
   ]
  },
  {
   "cell_type": "code",
   "execution_count": 8,
   "id": "83928858",
   "metadata": {},
   "outputs": [],
   "source": [
    "save_ols_summary(\"tariff\", \"inflation_rate\", df, \"inflation_ols.txt\")\n",
    "save_ols_summary(\"tariff\", \"manufacturing_output\", df, \"manufacturing_ols.txt\")\n",
    "save_ols_summary(\"tariff\", \"trade_deficit\", df, \"trade_ols.txt\")"
   ]
  },
  {
   "cell_type": "markdown",
   "id": "7f3faed0",
   "metadata": {},
   "source": [
    "## Saving Plots"
   ]
  },
  {
   "cell_type": "code",
   "execution_count": 9,
   "id": "d37049ef",
   "metadata": {},
   "outputs": [],
   "source": [
    "def regression_plot_save(x, y, data, title, color, filename):\n",
    "    X = sm.add_constant(data[[x]])\n",
    "    y_vals = data[y]\n",
    "\n",
    "    with warnings.catch_warnings():\n",
    "        warnings.simplefilter(\"ignore\")\n",
    "        model = sm.OLS(y_vals, X).fit()\n",
    "        pred = model.predict(X)\n",
    "\n",
    "    r_squared = model.rsquared\n",
    "    p_val = model.pvalues[1]\n",
    "    slope = model.params[1]\n",
    "\n",
    "    plt.figure()\n",
    "    sns.regplot(x=x, y=y, data=data, ci=None, color=color)\n",
    "    plt.title(title)\n",
    "    plt.xlabel(\"Tariff Rate (%)\")\n",
    "    plt.ylabel(y)\n",
    "\n",
    "    # Add textbox\n",
    "    textstr = f\"$R^2$ = {r_squared:.3f}\\nSlope = {slope:.3f}\\np = {p_val:.3f}\"\n",
    "    plt.text(0.05, 0.95, textstr, transform=plt.gca().transAxes,\n",
    "             fontsize=10, verticalalignment='top',\n",
    "             bbox=dict(boxstyle='round,pad=0.4', facecolor='white', alpha=0.5))\n",
    "\n",
    "    # Save the figure\n",
    "    output_path = os.path.join(\"..\", \"output\", \"brazil\", filename)\n",
    "    plt.tight_layout()\n",
    "    plt.savefig(output_path)\n",
    "    plt.close()  # Close to avoid displaying.\n",
    "\n"
   ]
  },
  {
   "cell_type": "code",
   "execution_count": 10,
   "id": "55b1dc79",
   "metadata": {},
   "outputs": [],
   "source": [
    "regression_plot_save(\"tariff\", \"inflation_rate\", df, \"Tariff vs Inflation Rate (CPI)\", \"blue\", \"inflation_plot.png\")\n",
    "regression_plot_save(\"tariff\", \"manufacturing_output\", df, \"Tariff vs Manufacturing Output\", \"green\", \"manufacturing_plot.png\")\n",
    "regression_plot_save(\"tariff\", \"trade_deficit\", df, \"Tariff vs Trade Deficit\", \"red\", \"trade_plot.png\")"
   ]
  }
 ],
 "metadata": {
  "kernelspec": {
   "display_name": "venv",
   "language": "python",
   "name": "python3"
  },
  "language_info": {
   "codemirror_mode": {
    "name": "ipython",
    "version": 3
   },
   "file_extension": ".py",
   "mimetype": "text/x-python",
   "name": "python",
   "nbconvert_exporter": "python",
   "pygments_lexer": "ipython3",
   "version": "3.11.0"
  }
 },
 "nbformat": 4,
 "nbformat_minor": 5
}
