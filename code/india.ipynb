{
 "cells": [
  {
   "cell_type": "markdown",
   "id": "85473e54",
   "metadata": {},
   "source": [
    "## Dependencies"
   ]
  },
  {
   "cell_type": "code",
   "execution_count": 16,
   "id": "97762116",
   "metadata": {},
   "outputs": [],
   "source": [
    "import pandas as pd\n",
    "import statsmodels.api as sm\n",
    "import os\n",
    "import matplotlib.pyplot as plt\n",
    "import seaborn as sns\n",
    "from sklearn.linear_model import LinearRegression\n",
    "import warnings\n",
    "warnings.filterwarnings(\"ignore\")"
   ]
  },
  {
   "cell_type": "markdown",
   "id": "53c2805d",
   "metadata": {},
   "source": [
    "## Data Extraction"
   ]
  },
  {
   "cell_type": "code",
   "execution_count": null,
   "id": "6600ec63",
   "metadata": {},
   "outputs": [
    {
     "name": "stdout",
     "output_type": "stream",
     "text": [
      "    year  inflation_rate  manufacturing_output  trade_deficit  tariff\n",
      "0   2013            10.0                 15.25           0.00     0.0\n",
      "1   2014             6.7                 15.06          -2.99     0.0\n",
      "2   2015             4.9                 15.58          -2.30     7.5\n",
      "3   2016             4.9                 15.16          -1.77     7.6\n",
      "4   2017             3.3                 15.02          -3.16     6.8\n",
      "5   2018             3.9                 14.88          -3.76     6.0\n",
      "6   2019             3.7                 13.46          -2.58     8.8\n",
      "7   2020             6.6                 14.12          -0.39     7.7\n",
      "8   2021             5.1                 14.38          -2.62     7.3\n",
      "9   2022             6.7                 13.12          -3.56     6.0\n",
      "10  2023             5.6                 12.93          -2.07     0.0\n"
     ]
    }
   ],
   "source": [
    "# Load Excel file\n",
    "merged_path = os.path.join(\"..\", \"data\", \"india\", \"merged_india.xlsx\")\n",
    "df = pd.read_excel(merged_path)\n",
    "\n",
    "# Clean column names\n",
    "df.columns = [col.strip().replace(\" \", \"_\").lower() for col in df.columns]\n",
    "\n",
    "# Rename for clarity\n",
    "df = df.rename(columns={\n",
    "    \"cpi_data\": \"inflation_rate\",\n",
    "    \"manufacturing_(%_age_of_gdp)\": \"manufacturing_output\",\n",
    "    \"trade_balance_(%_age_of_gdp)\": \"trade_deficit\",\n",
    "    \"tariff_rate\": \"tariff\"\n",
    "})\n",
    "\n",
    "# Preview the dataframe\n",
    "print(df)\n"
   ]
  },
  {
   "cell_type": "markdown",
   "id": "5afba6c0",
   "metadata": {},
   "source": [
    "## Defining The Variables"
   ]
  },
  {
   "cell_type": "code",
   "execution_count": 18,
   "id": "74e9b0c7",
   "metadata": {},
   "outputs": [],
   "source": [
    "# Independent variable (X)\n",
    "X = df[[\"tariff\"]]\n",
    "\n",
    "# Dependent variables (Y)\n",
    "y_inflation = df[\"inflation_rate\"]\n",
    "y_manufacturing = df[\"manufacturing_output\"]\n",
    "y_trade_balance = df[\"trade_deficit\"]\n"
   ]
  },
  {
   "cell_type": "markdown",
   "id": "6b82e8d9",
   "metadata": {},
   "source": [
    "## Statistical Analysis"
   ]
  },
  {
   "cell_type": "code",
   "execution_count": 19,
   "id": "d4e1b52e",
   "metadata": {},
   "outputs": [],
   "source": [
    "model_inflation = LinearRegression().fit(X, y_inflation)\n",
    "model_manufacturing = LinearRegression().fit(X, y_manufacturing)\n",
    "model_trade_balance = LinearRegression().fit(X, y_trade_balance)\n"
   ]
  },
  {
   "cell_type": "code",
   "execution_count": 20,
   "id": "7d97d1dd",
   "metadata": {},
   "outputs": [
    {
     "name": "stdout",
     "output_type": "stream",
     "text": [
      "Inflation Model:\n",
      "Coefficient: [-0.34639122]\n",
      "Intercept: 7.398797579958653\n",
      "\n",
      "Manufacturing Output Model:\n",
      "Coefficient: [0.00443573]\n",
      "Intercept: 14.427641675787426\n",
      "\n",
      "Trade Balance Model:\n",
      "Coefficient: [-0.07321917]\n",
      "Intercept: -1.9068412531922654\n"
     ]
    }
   ],
   "source": [
    "print(\"Inflation Model:\")\n",
    "print(\"Coefficient:\", model_inflation.coef_)\n",
    "print(\"Intercept:\", model_inflation.intercept_)\n",
    "\n",
    "print(\"\\nManufacturing Output Model:\")\n",
    "print(\"Coefficient:\", model_manufacturing.coef_)\n",
    "print(\"Intercept:\", model_manufacturing.intercept_)\n",
    "\n",
    "print(\"\\nTrade Balance Model:\")\n",
    "print(\"Coefficient:\", model_trade_balance.coef_)\n",
    "print(\"Intercept:\", model_trade_balance.intercept_)\n"
   ]
  },
  {
   "cell_type": "code",
   "execution_count": 21,
   "id": "1c641736",
   "metadata": {},
   "outputs": [
    {
     "name": "stdout",
     "output_type": "stream",
     "text": [
      "                            OLS Regression Results                            \n",
      "==============================================================================\n",
      "Dep. Variable:         inflation_rate   R-squared:                       0.401\n",
      "Model:                            OLS   Adj. R-squared:                  0.334\n",
      "Method:                 Least Squares   F-statistic:                     6.023\n",
      "Date:                Wed, 09 Apr 2025   Prob (F-statistic):             0.0365\n",
      "Time:                        10:51:35   Log-Likelihood:                -19.280\n",
      "No. Observations:                  11   AIC:                             42.56\n",
      "Df Residuals:                       9   BIC:                             43.36\n",
      "Df Model:                           1                                         \n",
      "Covariance Type:            nonrobust                                         \n",
      "==============================================================================\n",
      "                 coef    std err          t      P>|t|      [0.025      0.975]\n",
      "------------------------------------------------------------------------------\n",
      "const          7.3988      0.875      8.461      0.000       5.421       9.377\n",
      "tariff        -0.3464      0.141     -2.454      0.037      -0.666      -0.027\n",
      "==============================================================================\n",
      "Omnibus:                        0.811   Durbin-Watson:                   1.688\n",
      "Prob(Omnibus):                  0.667   Jarque-Bera (JB):                0.714\n",
      "Skew:                           0.406   Prob(JB):                        0.700\n",
      "Kurtosis:                       2.052   Cond. No.                         11.9\n",
      "==============================================================================\n",
      "\n",
      "Notes:\n",
      "[1] Standard Errors assume that the covariance matrix of the errors is correctly specified.\n",
      "                             OLS Regression Results                             \n",
      "================================================================================\n",
      "Dep. Variable:     manufacturing_output   R-squared:                       0.000\n",
      "Model:                              OLS   Adj. R-squared:                 -0.111\n",
      "Method:                   Least Squares   F-statistic:                  0.002500\n",
      "Date:                  Wed, 09 Apr 2025   Prob (F-statistic):              0.961\n",
      "Time:                          10:51:35   Log-Likelihood:                -14.173\n",
      "No. Observations:                    11   AIC:                             32.35\n",
      "Df Residuals:                         9   BIC:                             33.14\n",
      "Df Model:                             1                                         \n",
      "Covariance Type:              nonrobust                                         \n",
      "==============================================================================\n",
      "                 coef    std err          t      P>|t|      [0.025      0.975]\n",
      "------------------------------------------------------------------------------\n",
      "const         14.4276      0.550     26.246      0.000      13.184      15.671\n",
      "tariff         0.0044      0.089      0.050      0.961      -0.196       0.205\n",
      "==============================================================================\n",
      "Omnibus:                        1.962   Durbin-Watson:                   0.549\n",
      "Prob(Omnibus):                  0.375   Jarque-Bera (JB):                1.179\n",
      "Skew:                          -0.536   Prob(JB):                        0.555\n",
      "Kurtosis:                       1.807   Cond. No.                         11.9\n",
      "==============================================================================\n",
      "\n",
      "Notes:\n",
      "[1] Standard Errors assume that the covariance matrix of the errors is correctly specified.\n",
      "                            OLS Regression Results                            \n",
      "==============================================================================\n",
      "Dep. Variable:          trade_deficit   R-squared:                       0.045\n",
      "Model:                            OLS   Adj. R-squared:                 -0.062\n",
      "Method:                 Least Squares   F-statistic:                    0.4198\n",
      "Date:                Wed, 09 Apr 2025   Prob (F-statistic):              0.533\n",
      "Time:                        10:51:35   Log-Likelihood:                -16.834\n",
      "No. Observations:                  11   AIC:                             37.67\n",
      "Df Residuals:                       9   BIC:                             38.46\n",
      "Df Model:                           1                                         \n",
      "Covariance Type:            nonrobust                                         \n",
      "==============================================================================\n",
      "                 coef    std err          t      P>|t|      [0.025      0.975]\n",
      "------------------------------------------------------------------------------\n",
      "const         -1.9068      0.700     -2.724      0.023      -3.491      -0.323\n",
      "tariff        -0.0732      0.113     -0.648      0.533      -0.329       0.182\n",
      "==============================================================================\n",
      "Omnibus:                        1.369   Durbin-Watson:                   1.960\n",
      "Prob(Omnibus):                  0.504   Jarque-Bera (JB):                0.973\n",
      "Skew:                           0.648   Prob(JB):                        0.615\n",
      "Kurtosis:                       2.332   Cond. No.                         11.9\n",
      "==============================================================================\n",
      "\n",
      "Notes:\n",
      "[1] Standard Errors assume that the covariance matrix of the errors is correctly specified.\n"
     ]
    }
   ],
   "source": [
    "X_sm = sm.add_constant(X)  # Adds intercept term manually\n",
    "\n",
    "model_inf = sm.OLS(y_inflation, X_sm).fit()\n",
    "print(model_inf.summary())\n",
    "\n",
    "model_manu = sm.OLS(y_manufacturing, X_sm).fit()\n",
    "print(model_manu.summary())\n",
    "\n",
    "model_trade = sm.OLS(y_trade_balance, X_sm).fit()\n",
    "print(model_trade.summary())\n"
   ]
  },
  {
   "cell_type": "code",
   "execution_count": 22,
   "id": "82eae3c1",
   "metadata": {},
   "outputs": [],
   "source": [
    "def save_ols_summary(x, y, data, filename):\n",
    "    X = sm.add_constant(data[[x]])\n",
    "    y_vals = data[y]\n",
    "\n",
    "    with warnings.catch_warnings():\n",
    "        warnings.simplefilter(\"ignore\")\n",
    "        model = sm.OLS(y_vals, X).fit()\n",
    "\n",
    "    summary_str = model.summary().as_text()\n",
    "\n",
    "    output_path = os.path.join(\"..\", \"output\", \"india\", filename)\n",
    "    with open(output_path, \"w\") as f:\n",
    "        f.write(summary_str)"
   ]
  },
  {
   "cell_type": "code",
   "execution_count": 23,
   "id": "de95395e",
   "metadata": {},
   "outputs": [],
   "source": [
    "save_ols_summary(\"tariff\", \"inflation_rate\", df, \"inflation_ols.txt\")\n",
    "save_ols_summary(\"tariff\", \"manufacturing_output\", df, \"manufacturing_ols.txt\")\n",
    "save_ols_summary(\"tariff\", \"trade_deficit\", df, \"trade_ols.txt\")"
   ]
  },
  {
   "cell_type": "markdown",
   "id": "7dff85e6",
   "metadata": {},
   "source": [
    "## Saving Plots"
   ]
  },
  {
   "cell_type": "code",
   "execution_count": 24,
   "id": "fb08ef01",
   "metadata": {},
   "outputs": [],
   "source": [
    "def regression_plot_save(x, y, data, title, color, filename):\n",
    "    X = sm.add_constant(data[[x]])\n",
    "    y_vals = data[y]\n",
    "\n",
    "    with warnings.catch_warnings():\n",
    "        warnings.simplefilter(\"ignore\")\n",
    "        model = sm.OLS(y_vals, X).fit()\n",
    "        pred = model.predict(X)\n",
    "\n",
    "    r_squared = model.rsquared\n",
    "    p_val = model.pvalues[1]\n",
    "    slope = model.params[1]\n",
    "\n",
    "    plt.figure()\n",
    "    sns.regplot(x=x, y=y, data=data, ci=None, color=color)\n",
    "    plt.title(title)\n",
    "    plt.xlabel(\"Tariff Rate (%)\")\n",
    "    plt.ylabel(y)\n",
    "\n",
    "    # Add textbox\n",
    "    textstr = f\"$R^2$ = {r_squared:.3f}\\nSlope = {slope:.3f}\\np = {p_val:.3f}\"\n",
    "    plt.text(0.05, 0.95, textstr, transform=plt.gca().transAxes,\n",
    "             fontsize=10, verticalalignment='top',\n",
    "             bbox=dict(boxstyle='round,pad=0.4', facecolor='white', alpha=0.5))\n",
    "\n",
    "    # Save the figure\n",
    "    output_path = os.path.join(\"..\", \"output\", \"india\", filename)\n",
    "    plt.tight_layout()\n",
    "    plt.savefig(output_path)\n",
    "    plt.close()  # Close to avoid displaying.\n",
    "\n"
   ]
  },
  {
   "cell_type": "code",
   "execution_count": 25,
   "id": "32d47c5d",
   "metadata": {},
   "outputs": [],
   "source": [
    "regression_plot_save(\"tariff\", \"inflation_rate\", df, \"Tariff vs Inflation Rate (CPI)\", \"blue\", \"inflation_plot.png\")\n",
    "regression_plot_save(\"tariff\", \"manufacturing_output\", df, \"Tariff vs Manufacturing Output\", \"green\", \"manufacturing_plot.png\")\n",
    "regression_plot_save(\"tariff\", \"trade_deficit\", df, \"Tariff vs Trade Deficit\", \"red\", \"trade_plot.png\")"
   ]
  }
 ],
 "metadata": {
  "kernelspec": {
   "display_name": "venv",
   "language": "python",
   "name": "python3"
  },
  "language_info": {
   "codemirror_mode": {
    "name": "ipython",
    "version": 3
   },
   "file_extension": ".py",
   "mimetype": "text/x-python",
   "name": "python",
   "nbconvert_exporter": "python",
   "pygments_lexer": "ipython3",
   "version": "3.11.0"
  }
 },
 "nbformat": 4,
 "nbformat_minor": 5
}
